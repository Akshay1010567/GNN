{
  "nbformat": 4,
  "nbformat_minor": 0,
  "metadata": {
    "colab": {
      "provenance": [],
      "authorship_tag": "ABX9TyOF4+QZI9R0Olno/R3/dRLV"
    },
    "kernelspec": {
      "name": "python3",
      "display_name": "Python 3"
    },
    "language_info": {
      "name": "python"
    }
  },
  "cells": [
    {
      "cell_type": "code",
      "execution_count": 1,
      "metadata": {
        "id": "dMXRUeDrSiYE"
      },
      "outputs": [],
      "source": [
        "import networkx as nx"
      ]
    },
    {
      "cell_type": "code",
      "source": [
        "import matplotlib.pyplot as plt"
      ],
      "metadata": {
        "id": "Fx6eYcK5StRp"
      },
      "execution_count": 2,
      "outputs": []
    },
    {
      "cell_type": "code",
      "source": [
        "G = nx.Graph()\n",
        "G.add_edge(1, 2)\n",
        "G.add_edge(3,2)\n",
        "\n",
        "# Self loop\n",
        "G.add_edge(3, 3)\n",
        "nx.draw(G, cmap=plt.get_cmap('viridis'), node_color=G, with_labels=True,)\n",
        "print(nx.is_weighted(G))\n",
        "print(nx.is_directed(G))"
      ],
      "metadata": {
        "colab": {
          "base_uri": "https://localhost:8080/",
          "height": 354
        },
        "id": "H2QWB1ypSxWe",
        "outputId": "65007704-c6d2-4065-b56d-45b13d329bcc"
      },
      "execution_count": 3,
      "outputs": [
        {
          "output_type": "stream",
          "name": "stdout",
          "text": [
            "False\n",
            "False\n"
          ]
        },
        {
          "output_type": "display_data",
          "data": {
            "text/plain": [
              "<Figure size 432x288 with 1 Axes>"
            ],
            "image/png": "[encoded data removed]"
          },
          "metadata": {}
        }
      ]
    },
    {
      "cell_type": "code",
      "source": [
        "nx.to_numpy_matrix(G)"
      ],
      "metadata": {
        "colab": {
          "base_uri": "https://localhost:8080/"
        },
        "id": "oTl9ng5tTfEK",
        "outputId": "1561a356-0e82-4038-b628-9a0b5288409e"
      },
      "execution_count": 4,
      "outputs": [
        {
          "output_type": "execute_result",
          "data": {
            "text/plain": [
              "matrix([[0., 1., 0.],\n",
              "        [1., 0., 1.],\n",
              "        [0., 1., 1.]])"
            ]
          },
          "metadata": {},
          "execution_count": 4
        }
      ]
    },
    {
      "cell_type": "code",
      "source": [
        "from networkx.algorithms.shortest_paths import weighted\n",
        "G = nx.Graph()\n",
        "G.add_edge(1, 2, weight = 1)\n",
        "G.add_edge(3, 2, weight = 5)\n",
        "\n",
        "#Self loops\n",
        "G.add_edge(3,3)   # If weight is not written here than nx wil show no wighted \n",
        "G.add_edge(2,2)\n",
        "G.add_edge(1,1)\n",
        "\n",
        "nx.draw(G, cmap = plt.get_cmap('viridis'), node_color = G, with_labels = True)\n",
        "print(nx.is_weighted(G))\n",
        "print(nx.is_directed(G))"
      ],
      "metadata": {
        "colab": {
          "base_uri": "https://localhost:8080/",
          "height": 354
        },
        "id": "cqIlonRDT43s",
        "outputId": "a877177c-4c87-477d-d44e-1a6aeebc215b"
      },
      "execution_count": 5,
      "outputs": [
        {
          "output_type": "stream",
          "name": "stdout",
          "text": [
            "False\n",
            "False\n"
          ]
        },
        {
          "output_type": "display_data",
          "data": {
            "text/plain": [
              "<Figure size 432x288 with 1 Axes>"
            ],
            "image/png": "[encoded data removed]"
          },
          "metadata": {}
        }
      ]
    },
    {
      "cell_type": "code",
      "source": [
        "nx.to_numpy_matrix(G)  # Before weighted is displayed in self loops"
      ],
      "metadata": {
        "colab": {
          "base_uri": "https://localhost:8080/"
        },
        "id": "pbEJFUCHWB3W",
        "outputId": "de153162-09ce-48ca-e927-c5b8a86751b1"
      },
      "execution_count": 6,
      "outputs": [
        {
          "output_type": "execute_result",
          "data": {
            "text/plain": [
              "matrix([[1., 1., 0.],\n",
              "        [1., 1., 5.],\n",
              "        [0., 5., 1.]])"
            ]
          },
          "metadata": {},
          "execution_count": 6
        }
      ]
    },
    {
      "cell_type": "code",
      "source": [
        "from networkx.algorithms.shortest_paths import weighted\n",
        "G = nx.Graph()\n",
        "G.add_edge(1, 2, weight = 1)\n",
        "G.add_edge(3, 2, weight = 5)\n",
        "\n",
        "#Self loops\n",
        "G.add_edge(3,3, weight = 3)   \n",
        "G.add_edge(2,2, weight = 6)\n",
        "G.add_edge(1,1, weight = 9)\n",
        "\n",
        "nx.draw(G, cmap = plt.get_cmap('viridis'), node_color = G, with_labels = True)\n",
        "print(nx.is_weighted(G))\n",
        "print(nx.is_directed(G))"
      ],
      "metadata": {
        "colab": {
          "base_uri": "https://localhost:8080/",
          "height": 354
        },
        "id": "mVkdiPQsWuo1",
        "outputId": "54bea7f7-ec34-4ace-c000-adf7a4468387"
      },
      "execution_count": 7,
      "outputs": [
        {
          "output_type": "stream",
          "name": "stdout",
          "text": [
            "True\n",
            "False\n"
          ]
        },
        {
          "output_type": "display_data",
          "data": {
            "text/plain": [
              "<Figure size 432x288 with 1 Axes>"
            ],
            "image/png": "[encoded data removed]"
          },
          "metadata": {}
        }
      ]
    },
    {
      "cell_type": "code",
      "source": [
        "nx.to_numpy_matrix(G) "
      ],
      "metadata": {
        "colab": {
          "base_uri": "https://localhost:8080/"
        },
        "id": "85HmRO3CX2cu",
        "outputId": "f288a1ea-e90a-4834-eff0-0dbdd81354b5"
      },
      "execution_count": 8,
      "outputs": [
        {
          "output_type": "execute_result",
          "data": {
            "text/plain": [
              "matrix([[9., 1., 0.],\n",
              "        [1., 6., 5.],\n",
              "        [0., 5., 3.]])"
            ]
          },
          "metadata": {},
          "execution_count": 8
        }
      ]
    },
    {
      "cell_type": "code",
      "source": [
        "import scipy.sparse.linalg"
      ],
      "metadata": {
        "id": "5c8KW-eEYNAO"
      },
      "execution_count": 19,
      "outputs": []
    },
    {
      "cell_type": "code",
      "source": [
        "pip install 'scipy>=1.8'"
      ],
      "metadata": {
        "colab": {
          "base_uri": "https://localhost:8080/"
        },
        "id": "jEY_5aSZYvbt",
        "outputId": "be3aa7e0-1057-4f08-f093-bbc01ca4d4da"
      },
      "execution_count": 23,
      "outputs": [
        {
          "output_type": "stream",
          "name": "stdout",
          "text": [
            "Looking in indexes: https://pypi.org/simple, https://us-python.pkg.dev/colab-wheels/public/simple/\n",
            "Collecting scipy>=1.8\n",
            "  Downloading scipy-1.9.3-cp38-cp38-manylinux_2_17_x86_64.manylinux2014_x86_64.whl (33.8 MB)\n",
            "\u001b[K     |████████████████████████████████| 33.8 MB 296 kB/s \n",
            "\u001b[?25hRequirement already satisfied: numpy<1.26.0,>=1.18.5 in /usr/local/lib/python3.8/dist-packages (from scipy>=1.8) (1.21.6)\n",
            "Installing collected packages: scipy\n",
            "  Attempting uninstall: scipy\n",
            "    Found existing installation: scipy 1.7.3\n",
            "    Uninstalling scipy-1.7.3:\n",
            "      Successfully uninstalled scipy-1.7.3\n",
            "Successfully installed scipy-1.9.3\n"
          ]
        }
      ]
    },
    {
      "cell_type": "code",
      "source": [
        "pip install 'networkx<2.7'   # This works"
      ],
      "metadata": {
        "colab": {
          "base_uri": "https://localhost:8080/",
          "height": 277
        },
        "id": "_1ylvbQ9Y-o3",
        "outputId": "ed9cc44f-6825-4aad-852b-0be55e6bfab4"
      },
      "execution_count": 25,
      "outputs": [
        {
          "output_type": "stream",
          "name": "stdout",
          "text": [
            "Looking in indexes: https://pypi.org/simple, https://us-python.pkg.dev/colab-wheels/public/simple/\n",
            "Collecting networkx<2.7\n",
            "  Downloading networkx-2.6.3-py3-none-any.whl (1.9 MB)\n",
            "\u001b[K     |████████████████████████████████| 1.9 MB 4.8 MB/s \n",
            "\u001b[?25hInstalling collected packages: networkx\n",
            "  Attempting uninstall: networkx\n",
            "    Found existing installation: networkx 2.8.8\n",
            "    Uninstalling networkx-2.8.8:\n",
            "      Successfully uninstalled networkx-2.8.8\n",
            "Successfully installed networkx-2.6.3\n"
          ]
        },
        {
          "output_type": "display_data",
          "data": {
            "application/vnd.colab-display-data+json": {
              "pip_warning": {
                "packages": [
                  "networkx"
                ]
              }
            }
          },
          "metadata": {}
        }
      ]
    },
    {
      "cell_type": "code",
      "source": [
        "I = nx.incidence_matrix(G)"
      ],
      "metadata": {
        "id": "jExcJag2X5G7"
      },
      "execution_count": 9,
      "outputs": []
    },
    {
      "cell_type": "code",
      "source": [
        "I.data"
      ],
      "metadata": {
        "colab": {
          "base_uri": "https://localhost:8080/"
        },
        "id": "AtPpmje6YAtJ",
        "outputId": "a0b44b44-0ab9-43ae-e412-f7b7d6d2d21d"
      },
      "execution_count": 10,
      "outputs": [
        {
          "output_type": "execute_result",
          "data": {
            "text/plain": [
              "array([1., 1., 1., 1.])"
            ]
          },
          "metadata": {},
          "execution_count": 10
        }
      ]
    },
    {
      "cell_type": "code",
      "source": [
        "I.todense()"
      ],
      "metadata": {
        "colab": {
          "base_uri": "https://localhost:8080/"
        },
        "id": "STDUkrCuZVSD",
        "outputId": "51c17638-2a1d-4806-e1f6-528d926a157c"
      },
      "execution_count": 12,
      "outputs": [
        {
          "output_type": "execute_result",
          "data": {
            "text/plain": [
              "matrix([[1., 0., 0., 0., 0.],\n",
              "        [1., 0., 1., 0., 0.],\n",
              "        [0., 0., 1., 0., 0.]])"
            ]
          },
          "metadata": {},
          "execution_count": 12
        }
      ]
    },
    {
      "cell_type": "code",
      "source": [
        "I"
      ],
      "metadata": {
        "colab": {
          "base_uri": "https://localhost:8080/"
        },
        "id": "Of4fxwqHZaUV",
        "outputId": "f9b0e63a-949b-4cf4-e2b8-9a3693ef6355"
      },
      "execution_count": 13,
      "outputs": [
        {
          "output_type": "execute_result",
          "data": {
            "text/plain": [
              "<3x5 sparse matrix of type '<class 'numpy.float64'>'\n",
              "\twith 4 stored elements in Compressed Sparse Column format>"
            ]
          },
          "metadata": {},
          "execution_count": 13
        }
      ]
    },
    {
      "cell_type": "code",
      "source": [
        "A = nx.adjacency_matrix(G)"
      ],
      "metadata": {
        "id": "vlnqq16pZ83r"
      },
      "execution_count": 14,
      "outputs": []
    },
    {
      "cell_type": "code",
      "source": [
        "A"
      ],
      "metadata": {
        "colab": {
          "base_uri": "https://localhost:8080/"
        },
        "id": "EaaRiI8NaDct",
        "outputId": "f295e094-b4b2-4d74-a1f4-78338cd8e928"
      },
      "execution_count": 15,
      "outputs": [
        {
          "output_type": "execute_result",
          "data": {
            "text/plain": [
              "<3x3 sparse matrix of type '<class 'numpy.int64'>'\n",
              "\twith 7 stored elements in Compressed Sparse Row format>"
            ]
          },
          "metadata": {},
          "execution_count": 15
        }
      ]
    },
    {
      "cell_type": "code",
      "source": [
        "A.todense()"
      ],
      "metadata": {
        "colab": {
          "base_uri": "https://localhost:8080/"
        },
        "id": "mLFYMMhGaEsZ",
        "outputId": "654367b9-1299-4df6-968c-0908ea06d7dc"
      },
      "execution_count": 16,
      "outputs": [
        {
          "output_type": "execute_result",
          "data": {
            "text/plain": [
              "matrix([[9, 1, 0],\n",
              "        [1, 6, 5],\n",
              "        [0, 5, 3]])"
            ]
          },
          "metadata": {},
          "execution_count": 16
        }
      ]
    },
    {
      "cell_type": "code",
      "source": [
        " A.todense().dtype"
      ],
      "metadata": {
        "colab": {
          "base_uri": "https://localhost:8080/"
        },
        "id": "wntfxYfbaJeI",
        "outputId": "30a2844c-ba15-4461-d159-2e92a412f7f9"
      },
      "execution_count": 17,
      "outputs": [
        {
          "output_type": "execute_result",
          "data": {
            "text/plain": [
              "dtype('int64')"
            ]
          },
          "metadata": {},
          "execution_count": 17
        }
      ]
    },
    {
      "cell_type": "markdown",
      "source": [
        "## **Directed Graph**"
      ],
      "metadata": {
        "id": "wp9kkDzCdIDD"
      }
    },
    {
      "cell_type": "code",
      "source": [
        "G = nx.DiGraph()\n",
        "G.add_edge(1, 2, weight = 1)\n",
        "G.add_edge(3, 2, weight = 5)\n",
        "G.add_edge(3, 1, weight = 10)\n",
        "\n",
        "# Adding it later\n",
        "G.add_edge(3, 3)\n",
        "nx.draw(G, cmap = plt.get_cmap('viridis'), node_color=G, with_labels=True)\n",
        "print(nx.is_weighted(G))\n",
        "print(nx.is_directed(G))"
      ],
      "metadata": {
        "colab": {
          "base_uri": "https://localhost:8080/",
          "height": 354
        },
        "id": "x0wk_Y75afot",
        "outputId": "0f4c1629-e55a-4d23-96b5-2c1c71050fce"
      },
      "execution_count": 22,
      "outputs": [
        {
          "output_type": "stream",
          "name": "stdout",
          "text": [
            "False\n",
            "True\n"
          ]
        },
        {
          "output_type": "display_data",
          "data": {
            "text/plain": [
              "<Figure size 432x288 with 1 Axes>"
            ],
            "image/png": "[encoded data removed]"
          },
          "metadata": {}
        }
      ]
    },
    {
      "cell_type": "code",
      "source": [
        "I = nx.incidence_matrix(G)"
      ],
      "metadata": {
        "id": "yCMQ576lbz89"
      },
      "execution_count": 23,
      "outputs": []
    },
    {
      "cell_type": "code",
      "source": [
        "I.data"
      ],
      "metadata": {
        "colab": {
          "base_uri": "https://localhost:8080/"
        },
        "id": "xq3eLp1rcah_",
        "outputId": "4e4b9d0e-505a-4ea3-94d7-b318235858e0"
      },
      "execution_count": 24,
      "outputs": [
        {
          "output_type": "execute_result",
          "data": {
            "text/plain": [
              "array([1., 1., 1., 1., 1., 1.])"
            ]
          },
          "metadata": {},
          "execution_count": 24
        }
      ]
    },
    {
      "cell_type": "code",
      "source": [
        "I.diagonal()"
      ],
      "metadata": {
        "colab": {
          "base_uri": "https://localhost:8080/"
        },
        "id": "_J-wR92EccaW",
        "outputId": "7be08781-2b04-431d-97e8-45145286bf07"
      },
      "execution_count": 25,
      "outputs": [
        {
          "output_type": "execute_result",
          "data": {
            "text/plain": [
              "array([1., 1., 1.])"
            ]
          },
          "metadata": {},
          "execution_count": 25
        }
      ]
    },
    {
      "cell_type": "code",
      "source": [
        "A = nx.adjacency_matrix(G)"
      ],
      "metadata": {
        "id": "E4pe1VFXcemA"
      },
      "execution_count": 26,
      "outputs": []
    },
    {
      "cell_type": "code",
      "source": [
        "A.todense()"
      ],
      "metadata": {
        "colab": {
          "base_uri": "https://localhost:8080/"
        },
        "id": "CcrLX8fgjL41",
        "outputId": "044dd73a-6642-4d18-8292-cf53d51f8e12"
      },
      "execution_count": 27,
      "outputs": [
        {
          "output_type": "execute_result",
          "data": {
            "text/plain": [
              "matrix([[ 0,  1,  0],\n",
              "        [ 0,  0,  0],\n",
              "        [10,  5,  1]])"
            ]
          },
          "metadata": {},
          "execution_count": 27
        }
      ]
    },
    {
      "cell_type": "markdown",
      "source": [
        "## **Laplacian Matrix**\n",
        "\n",
        "* From Uni-directed Graph\n",
        "\n",
        "Laplacian Graph not works with Directed graph"
      ],
      "metadata": {
        "id": "fsxQRVbajQFn"
      }
    },
    {
      "cell_type": "code",
      "source": [
        "from networkx.algorithms.shortest_paths import weighted\n",
        "G = nx.Graph()\n",
        "G.add_edge(1, 2, weight = 1)\n",
        "G.add_edge(3, 2, weight = 5)\n",
        "\n",
        "#Self loops\n",
        "G.add_edge(3,3, weight = 3)   \n",
        "G.add_edge(2,2, weight = 6)\n",
        "G.add_edge(1,1, weight = 9)\n",
        "\n",
        "nx.draw(G, cmap = plt.get_cmap('viridis'), node_color = G, with_labels = True)\n",
        "print(nx.is_weighted(G))\n",
        "print(nx.is_directed(G))"
      ],
      "metadata": {
        "colab": {
          "base_uri": "https://localhost:8080/",
          "height": 354
        },
        "id": "YSLzbmbCjr1J",
        "outputId": "5179b864-75d4-4f1f-ddce-36d52814eaf0"
      },
      "execution_count": 29,
      "outputs": [
        {
          "output_type": "stream",
          "name": "stdout",
          "text": [
            "True\n",
            "False\n"
          ]
        },
        {
          "output_type": "display_data",
          "data": {
            "text/plain": [
              "<Figure size 432x288 with 1 Axes>"
            ],
            "image/png": "[encoded data removed]"
          },
          "metadata": {}
        }
      ]
    },
    {
      "cell_type": "code",
      "source": [
        "L = nx.laplacian_matrix(G)"
      ],
      "metadata": {
        "id": "KWHH9cY3jN4b"
      },
      "execution_count": 30,
      "outputs": []
    },
    {
      "cell_type": "code",
      "source": [
        "L.data"
      ],
      "metadata": {
        "colab": {
          "base_uri": "https://localhost:8080/"
        },
        "id": "Pfba0YzvjZRi",
        "outputId": "cf6f4b1d-3aea-4f54-d4ed-a1582e645cdd"
      },
      "execution_count": 32,
      "outputs": [
        {
          "output_type": "execute_result",
          "data": {
            "text/plain": [
              "array([ 1, -1, -1,  6, -5, -5,  5])"
            ]
          },
          "metadata": {},
          "execution_count": 32
        }
      ]
    },
    {
      "cell_type": "code",
      "source": [
        "L.todense()"
      ],
      "metadata": {
        "colab": {
          "base_uri": "https://localhost:8080/"
        },
        "id": "tMSA8Jknj2oC",
        "outputId": "367a4e5a-22c6-4526-b0d7-0bcd5ce2907b"
      },
      "execution_count": 33,
      "outputs": [
        {
          "output_type": "execute_result",
          "data": {
            "text/plain": [
              "matrix([[ 1, -1,  0],\n",
              "        [-1,  6, -5],\n",
              "        [ 0, -5,  5]])"
            ]
          },
          "metadata": {},
          "execution_count": 33
        }
      ]
    },
    {
      "cell_type": "code",
      "source": [
        "A = nx.adjacency_matrix(G)"
      ],
      "metadata": {
        "id": "oLoqjiqWkZ-N"
      },
      "execution_count": 34,
      "outputs": []
    },
    {
      "cell_type": "code",
      "source": [
        "A.data"
      ],
      "metadata": {
        "colab": {
          "base_uri": "https://localhost:8080/"
        },
        "id": "O1y-48ATkiJ7",
        "outputId": "e66b4b47-e11b-4353-e4a5-3ca75950d735"
      },
      "execution_count": 35,
      "outputs": [
        {
          "output_type": "execute_result",
          "data": {
            "text/plain": [
              "array([9, 1, 1, 6, 5, 5, 3])"
            ]
          },
          "metadata": {},
          "execution_count": 35
        }
      ]
    },
    {
      "cell_type": "code",
      "source": [
        "A.shape"
      ],
      "metadata": {
        "colab": {
          "base_uri": "https://localhost:8080/"
        },
        "id": "WQPeWdk7kjhC",
        "outputId": "8a96cadd-6818-4a6d-a59b-8b9c1e915fb0"
      },
      "execution_count": 36,
      "outputs": [
        {
          "output_type": "execute_result",
          "data": {
            "text/plain": [
              "(3, 3)"
            ]
          },
          "metadata": {},
          "execution_count": 36
        }
      ]
    },
    {
      "cell_type": "code",
      "source": [
        "A.todense()"
      ],
      "metadata": {
        "colab": {
          "base_uri": "https://localhost:8080/"
        },
        "id": "zds7NBESklTE",
        "outputId": "20a98eaf-93fb-4309-835b-df8ea2c8454d"
      },
      "execution_count": 37,
      "outputs": [
        {
          "output_type": "execute_result",
          "data": {
            "text/plain": [
              "matrix([[9, 1, 0],\n",
              "        [1, 6, 5],\n",
              "        [0, 5, 3]])"
            ]
          },
          "metadata": {},
          "execution_count": 37
        }
      ]
    },
    {
      "cell_type": "code",
      "source": [
        "A = nx.to_numpy_matrix(G)"
      ],
      "metadata": {
        "id": "tJqfolWrkoMI"
      },
      "execution_count": 39,
      "outputs": []
    },
    {
      "cell_type": "code",
      "source": [
        "A"
      ],
      "metadata": {
        "colab": {
          "base_uri": "https://localhost:8080/"
        },
        "id": "-JWfYeO6k1yH",
        "outputId": "46a97f85-338f-45e1-a995-19ac516bd6cb"
      },
      "execution_count": 40,
      "outputs": [
        {
          "output_type": "execute_result",
          "data": {
            "text/plain": [
              "matrix([[9., 1., 0.],\n",
              "        [1., 6., 5.],\n",
              "        [0., 5., 3.]])"
            ]
          },
          "metadata": {},
          "execution_count": 40
        }
      ]
    },
    {
      "cell_type": "code",
      "source": [
        "G.edges"
      ],
      "metadata": {
        "colab": {
          "base_uri": "https://localhost:8080/"
        },
        "id": "Jmkk2G7Ik3To",
        "outputId": "7ba9aeb0-626c-4524-952c-c2c0acbd5c45"
      },
      "execution_count": 41,
      "outputs": [
        {
          "output_type": "execute_result",
          "data": {
            "text/plain": [
              "EdgeView([(1, 2), (1, 1), (2, 3), (2, 2), (3, 3)])"
            ]
          },
          "metadata": {},
          "execution_count": 41
        }
      ]
    },
    {
      "cell_type": "code",
      "source": [
        "G.nodes"
      ],
      "metadata": {
        "colab": {
          "base_uri": "https://localhost:8080/"
        },
        "id": "cPKAERrHk7iJ",
        "outputId": "34e49bae-5d8a-4a70-d8a9-aeceb0d280c3"
      },
      "execution_count": 42,
      "outputs": [
        {
          "output_type": "execute_result",
          "data": {
            "text/plain": [
              "NodeView((1, 2, 3))"
            ]
          },
          "metadata": {},
          "execution_count": 42
        }
      ]
    },
    {
      "cell_type": "markdown",
      "source": [
        "# **Representing Graph in class framework**"
      ],
      "metadata": {
        "id": "eKd2Jqj4mSxn"
      }
    },
    {
      "cell_type": "code",
      "source": [
        "G = nx.Graph()\n",
        "G.add_edges_from(\n",
        "    [('A', 'B'), ('A', 'C'), ('D', 'B'), ('E', 'C'), ('E', 'F'),\n",
        "     ('B', 'H'), ('B', 'G'), ('B', 'F'), ('C', 'G')])\n",
        "\n",
        "val_map = {'A': 1.0,\n",
        "           'D': 0.5,\n",
        "           'F': 0.7,\n",
        "           'G': 0.9,\n",
        "           'H': 0.0}\n",
        "\n",
        "values = [val_map.get(node, .7) for node in G.nodes()]\n",
        "\n",
        "nx.draw(G, cmap=plt.get_cmap('viridis'), node_color=values, with_labels=True, font_color='white')\n",
        "plt.show()"
      ],
      "metadata": {
        "colab": {
          "base_uri": "https://localhost:8080/",
          "height": 319
        },
        "id": "l3odpfvfk9tV",
        "outputId": "dd159fda-6c2b-4c45-d18a-e248b271f099"
      },
      "execution_count": 52,
      "outputs": [
        {
          "output_type": "display_data",
          "data": {
            "text/plain": [
              "<Figure size 432x288 with 1 Axes>"
            ],
            "image/png": "[encoded data removed]"
          },
          "metadata": {}
        }
      ]
    },
    {
      "cell_type": "code",
      "source": [
        "#G = nx.DiGraph() # for Laplacian Matrix you can not use the directed graph\n",
        "G = nx.Graph() \n",
        "G.add_edges_from(\n",
        "    [('A', 'B'), ('A', 'C'), ('B', 'D'), ('C', 'E'), ('C', 'F'),\n",
        "     ('E', 'F'), ('D', 'F'),\n",
        "     ('B', 'B'), ('F', 'F')\n",
        "     ])\n",
        "\n",
        "val_map = {'A': 1.0,\n",
        "           'B': 2.0,\n",
        "           'C': 3.0,\n",
        "           'D': 4.0, \n",
        "           'E': 5.0, \n",
        "           'F': 6.0}\n",
        "\n",
        "values = [val_map.get(node, 0.25) for node in G.nodes()]\n",
        "nx.draw(G, cmap=plt.get_cmap('viridis'), with_labels=True, node_color=values, font_color='red')\n",
        "\n",
        "print(nx.is_weighted(G))\n",
        "print(nx.is_directed(G))"
      ],
      "metadata": {
        "colab": {
          "base_uri": "https://localhost:8080/",
          "height": 354
        },
        "id": "8b-f-g_3mrnR",
        "outputId": "1b1d3ee4-e23b-40b1-8267-efc3bbede9ad"
      },
      "execution_count": 58,
      "outputs": [
        {
          "output_type": "stream",
          "name": "stdout",
          "text": [
            "False\n",
            "False\n"
          ]
        },
        {
          "output_type": "display_data",
          "data": {
            "text/plain": [
              "<Figure size 432x288 with 1 Axes>"
            ],
            "image/png": "[encoded data removed]"
          },
          "metadata": {}
        }
      ]
    },
    {
      "cell_type": "code",
      "source": [
        "A = nx.adjacency_matrix(G)"
      ],
      "metadata": {
        "id": "tU7WXq6MpghW"
      },
      "execution_count": 59,
      "outputs": []
    },
    {
      "cell_type": "code",
      "source": [
        "A.todense()"
      ],
      "metadata": {
        "colab": {
          "base_uri": "https://localhost:8080/"
        },
        "id": "cX5k0XmIp0Mk",
        "outputId": "d1c89866-68da-4db4-9b74-ee51dd8f8178"
      },
      "execution_count": 63,
      "outputs": [
        {
          "output_type": "execute_result",
          "data": {
            "text/plain": [
              "matrix([[0, 1, 1, 0, 0, 0],\n",
              "        [1, 1, 0, 1, 0, 0],\n",
              "        [1, 0, 0, 0, 1, 1],\n",
              "        [0, 1, 0, 0, 0, 1],\n",
              "        [0, 0, 1, 0, 0, 1],\n",
              "        [0, 0, 1, 1, 1, 1]])"
            ]
          },
          "metadata": {},
          "execution_count": 63
        }
      ]
    },
    {
      "cell_type": "code",
      "source": [
        "A.data"
      ],
      "metadata": {
        "colab": {
          "base_uri": "https://localhost:8080/"
        },
        "id": "5rIMr_0Tp2R1",
        "outputId": "424d46d4-07ea-4949-9947-a3769e9516d0"
      },
      "execution_count": 61,
      "outputs": [
        {
          "output_type": "execute_result",
          "data": {
            "text/plain": [
              "array([1, 1, 1, 1, 1, 1, 1, 1, 1, 1, 1, 1, 1, 1, 1, 1])"
            ]
          },
          "metadata": {},
          "execution_count": 61
        }
      ]
    },
    {
      "cell_type": "code",
      "source": [
        "A.setdiag(A.diagonal())"
      ],
      "metadata": {
        "colab": {
          "base_uri": "https://localhost:8080/"
        },
        "id": "Kj26NOvmp4N3",
        "outputId": "4c5d45f4-0ceb-4658-c11f-f2a0df98258f"
      },
      "execution_count": 64,
      "outputs": [
        {
          "output_type": "stream",
          "name": "stderr",
          "text": [
            "/usr/local/lib/python3.8/dist-packages/scipy/sparse/_index.py:146: SparseEfficiencyWarning: Changing the sparsity structure of a csr_matrix is expensive. lil_matrix is more efficient.\n",
            "  self._set_arrayXarray(i, j, x)\n"
          ]
        }
      ]
    },
    {
      "cell_type": "code",
      "source": [
        "print(A.diagonal())"
      ],
      "metadata": {
        "colab": {
          "base_uri": "https://localhost:8080/"
        },
        "id": "LSQuo1ndqEFx",
        "outputId": "31bd5b1b-334a-4283-bb76-8d5c94b9e10c"
      },
      "execution_count": 65,
      "outputs": [
        {
          "output_type": "stream",
          "name": "stdout",
          "text": [
            "[0 1 0 0 0 1]\n"
          ]
        }
      ]
    },
    {
      "cell_type": "code",
      "source": [
        "L = nx.laplacian_matrix(G)"
      ],
      "metadata": {
        "id": "lc4XLgrfqGB_"
      },
      "execution_count": 66,
      "outputs": []
    },
    {
      "cell_type": "code",
      "source": [
        "L.todense()"
      ],
      "metadata": {
        "colab": {
          "base_uri": "https://localhost:8080/"
        },
        "id": "zmmm_KhFqH0E",
        "outputId": "b312961e-4f92-4d29-e8a7-0a666d166c2c"
      },
      "execution_count": 67,
      "outputs": [
        {
          "output_type": "execute_result",
          "data": {
            "text/plain": [
              "matrix([[ 2, -1, -1,  0,  0,  0],\n",
              "        [-1,  2,  0, -1,  0,  0],\n",
              "        [-1,  0,  3,  0, -1, -1],\n",
              "        [ 0, -1,  0,  2,  0, -1],\n",
              "        [ 0,  0, -1,  0,  2, -1],\n",
              "        [ 0,  0, -1, -1, -1,  3]])"
            ]
          },
          "metadata": {},
          "execution_count": 67
        }
      ]
    },
    {
      "cell_type": "markdown",
      "source": [
        "# **The Example used in the Part 2 Notes**"
      ],
      "metadata": {
        "id": "Fp5AOcpDrAXe"
      }
    },
    {
      "cell_type": "code",
      "source": [
        "#G = nx.DiGraph() # for Laplacian Matrix you can not use the directed graph\n",
        "G = nx.Graph() \n",
        "G.add_edges_from(\n",
        "    [('A', 'B'), ('A', 'C'), ('B', 'D'), ('C', 'E'), ('C', 'F'),\n",
        "     ('E', 'F'), ('D', 'F'),\n",
        "     ('B', 'B'), ('F', 'F')\n",
        "     ])\n",
        "\n",
        "val_map = {'A': 1.0,  # So by this value (1.0) 'A' and 'F' are in same colors group (class)\n",
        "           'B': 2.0,   # B and E are in same class \n",
        "           'C': 3.0,\n",
        "           'D': 3.0, \n",
        "           'E': 2.0, \n",
        "           'F': 1.0}\n",
        "           \n",
        "values = [val_map.get(node, 0.25) for node in G.nodes()]\n",
        "nx.draw(G, cmap=plt.get_cmap('viridis'), with_labels=True,  node_color=values, font_color='red')\n",
        "\n",
        "print(nx.is_weighted(G))\n",
        "print(nx.is_directed(G))"
      ],
      "metadata": {
        "colab": {
          "base_uri": "https://localhost:8080/",
          "height": 354
        },
        "id": "OvOJyQy8qKLj",
        "outputId": "3082be05-bc6b-47f2-d5f4-296b34f962da"
      },
      "execution_count": 70,
      "outputs": [
        {
          "output_type": "stream",
          "name": "stdout",
          "text": [
            "False\n",
            "False\n"
          ]
        },
        {
          "output_type": "display_data",
          "data": {
            "text/plain": [
              "<Figure size 432x288 with 1 Axes>"
            ],
            "image/png": "[encoded data removed]"
          },
          "metadata": {}
        }
      ]
    },
    {
      "cell_type": "code",
      "source": [
        "from networkx.classes import to_directed\n",
        "nx.draw(G.to_directed())"
      ],
      "metadata": {
        "colab": {
          "base_uri": "https://localhost:8080/",
          "height": 319
        },
        "id": "HNDlV191sV29",
        "outputId": "a2bdc6b0-8bab-4453-d726-89456fa6e153"
      },
      "execution_count": 72,
      "outputs": [
        {
          "output_type": "display_data",
          "data": {
            "text/plain": [
              "<Figure size 432x288 with 1 Axes>"
            ],
            "image/png": "[encoded data removed]"
          },
          "metadata": {}
        }
      ]
    },
    {
      "cell_type": "code",
      "source": [
        "nx.draw(G.to_directed(), cmap=plt.get_cmap('viridis'), with_labels=True,  node_color=values, font_color='red')\n"
      ],
      "metadata": {
        "colab": {
          "base_uri": "https://localhost:8080/",
          "height": 319
        },
        "id": "SwkZW9Ihsm7P",
        "outputId": "c9469612-0153-4f59-d1da-59b7ebb234d0"
      },
      "execution_count": 73,
      "outputs": [
        {
          "output_type": "display_data",
          "data": {
            "text/plain": [
              "<Figure size 432x288 with 1 Axes>"
            ],
            "image/png": "[encoded data removed]"
          },
          "metadata": {}
        }
      ]
    },
    {
      "cell_type": "code",
      "source": [
        "I = nx.incidence_matrix(G)"
      ],
      "metadata": {
        "id": "94i1HCEZs2GS"
      },
      "execution_count": 74,
      "outputs": []
    },
    {
      "cell_type": "code",
      "source": [
        "I.todense()"
      ],
      "metadata": {
        "colab": {
          "base_uri": "https://localhost:8080/"
        },
        "id": "1W20NUprtMyO",
        "outputId": "5b8960bc-c406-4758-ca7a-31b056846675"
      },
      "execution_count": 75,
      "outputs": [
        {
          "output_type": "execute_result",
          "data": {
            "text/plain": [
              "matrix([[1., 1., 0., 0., 0., 0., 0., 0., 0.],\n",
              "        [1., 0., 1., 0., 0., 0., 0., 0., 0.],\n",
              "        [0., 1., 0., 0., 1., 1., 0., 0., 0.],\n",
              "        [0., 0., 1., 0., 0., 0., 1., 0., 0.],\n",
              "        [0., 0., 0., 0., 1., 0., 0., 1., 0.],\n",
              "        [0., 0., 0., 0., 0., 1., 1., 1., 0.]])"
            ]
          },
          "metadata": {},
          "execution_count": 75
        }
      ]
    },
    {
      "cell_type": "markdown",
      "source": [
        "# **Rendering all nodes and edges**"
      ],
      "metadata": {
        "id": "4vW62EGytSY4"
      }
    },
    {
      "cell_type": "code",
      "source": [
        " edge_labels={('A', 'B'): 'e1',  ('A', 'C'): 'e2', ('C', 'E'): 'e3', ('E', 'F'): 'e4', ('C', 'F'): 'e5', ('B', 'D'): 'e6', ('D', 'F'): 'e7'\n",
        "  , ('B', 'B'): 'e8', ('F', 'F'): 'e9'\n",
        " }\n",
        " all_edges = [('A', 'B'), ('A', 'C'), ('B', 'D'), ('C', 'E'), ('C', 'F'),\n",
        "     ('E', 'F'), ('D', 'F'),\n",
        "     ('B', 'B'), ('F', 'F')\n",
        "     ]"
      ],
      "metadata": {
        "id": "zmwrJMaktO9I"
      },
      "execution_count": 78,
      "outputs": []
    },
    {
      "cell_type": "code",
      "source": [
        "#G = nx.DiGraph() # for Laplacian Matrix you can not use the directed graph\n",
        "G = nx.Graph() \n",
        "G.add_edges_from(all_edges)  # Addded All edges names here \n",
        "    \n",
        "val_map = {'A': 1.0,\n",
        "           'B': 2.0,\n",
        "           'C': 3.0,\n",
        "           'D': 4.0,\n",
        "           'E': 5.0,\n",
        "           'F': 6.0}\n",
        "\n",
        "values = [val_map.get(node, 0.25) for node in G.nodes()]\n",
        "\n",
        "pos = nx.spring_layout(G)\n",
        "plt.figure(figsize=(12,6))\n",
        "nx.draw(\n",
        "    G, pos, edge_color='black', width=1, linewidths=1,\n",
        "    node_size=500, node_color=values, alpha=0.9,\n",
        "    labels={node: node for node in G.nodes()}\n",
        ")\n",
        "nx.draw_networkx_edge_labels(\n",
        "    G, pos,\n",
        "    edge_labels=edge_labels,\n",
        "    font_color='red'\n",
        ")\n",
        "plt.axis('off')\n",
        "plt.show()\n",
        "print(nx.is_weighted(G))\n",
        "print(nx.is_directed(G))"
      ],
      "metadata": {
        "colab": {
          "base_uri": "https://localhost:8080/",
          "height": 498
        },
        "id": "qdppz09jtzUq",
        "outputId": "8e577ee8-35a8-4f1b-94ef-b4069191705d"
      },
      "execution_count": 79,
      "outputs": [
        {
          "output_type": "display_data",
          "data": {
            "text/plain": [
              "<Figure size 864x432 with 1 Axes>"
            ],
            "image/png": "[encoded data removed]"
          },
          "metadata": {}
        },
        {
          "output_type": "stream",
          "name": "stdout",
          "text": [
            "False\n",
            "False\n"
          ]
        }
      ]
    },
    {
      "cell_type": "code",
      "source": [
        "print(f'Number of Nodes: {G.number_of_nodes()}')\n",
        "print(f'Number of Edges: {G.number_of_edges()}')"
      ],
      "metadata": {
        "colab": {
          "base_uri": "https://localhost:8080/"
        },
        "id": "E9glzzJAuRJ9",
        "outputId": "9894dff3-58f4-48f7-df55-0b74d0b24bce"
      },
      "execution_count": 81,
      "outputs": [
        {
          "output_type": "stream",
          "name": "stdout",
          "text": [
            "Number of Nodes: 6\n",
            "Number of Edges: 9\n"
          ]
        }
      ]
    },
    {
      "cell_type": "code",
      "source": [
        "nx.to_numpy_matrix(G)"
      ],
      "metadata": {
        "colab": {
          "base_uri": "https://localhost:8080/"
        },
        "id": "HLkEYgrxusO4",
        "outputId": "f0df40a6-ba95-4e2f-fbf0-7aee9e1f82d9"
      },
      "execution_count": 82,
      "outputs": [
        {
          "output_type": "execute_result",
          "data": {
            "text/plain": [
              "matrix([[0., 1., 1., 0., 0., 0.],\n",
              "        [1., 1., 0., 1., 0., 0.],\n",
              "        [1., 0., 0., 0., 1., 1.],\n",
              "        [0., 1., 0., 0., 0., 1.],\n",
              "        [0., 0., 1., 0., 0., 1.],\n",
              "        [0., 0., 1., 1., 1., 1.]])"
            ]
          },
          "metadata": {},
          "execution_count": 82
        }
      ]
    },
    {
      "cell_type": "code",
      "source": [
        "nx.to_numpy_matrix(G.to_directed())"
      ],
      "metadata": {
        "colab": {
          "base_uri": "https://localhost:8080/"
        },
        "id": "7LyDA4I8vI6a",
        "outputId": "e4f64e6d-4716-4d4e-b8bb-2d88f5581b6b"
      },
      "execution_count": 83,
      "outputs": [
        {
          "output_type": "execute_result",
          "data": {
            "text/plain": [
              "matrix([[0., 1., 1., 0., 0., 0.],\n",
              "        [1., 1., 0., 1., 0., 0.],\n",
              "        [1., 0., 0., 0., 1., 1.],\n",
              "        [0., 1., 0., 0., 0., 1.],\n",
              "        [0., 0., 1., 0., 0., 1.],\n",
              "        [0., 0., 1., 1., 1., 1.]])"
            ]
          },
          "metadata": {},
          "execution_count": 83
        }
      ]
    },
    {
      "cell_type": "markdown",
      "source": [
        "# **Adjancency_matrix (A)** "
      ],
      "metadata": {
        "id": "3aTEzxrnwDfd"
      }
    },
    {
      "cell_type": "code",
      "source": [
        "A = nx.adjacency_matrix(G)"
      ],
      "metadata": {
        "id": "ZTz3rJ5Mv5WN"
      },
      "execution_count": 84,
      "outputs": []
    },
    {
      "cell_type": "code",
      "source": [
        "A.todense()"
      ],
      "metadata": {
        "colab": {
          "base_uri": "https://localhost:8080/"
        },
        "id": "relReTELwRLj",
        "outputId": "f2623606-acc4-43eb-e52b-851c78adafa2"
      },
      "execution_count": 85,
      "outputs": [
        {
          "output_type": "execute_result",
          "data": {
            "text/plain": [
              "matrix([[0, 1, 1, 0, 0, 0],\n",
              "        [1, 1, 0, 1, 0, 0],\n",
              "        [1, 0, 0, 0, 1, 1],\n",
              "        [0, 1, 0, 0, 0, 1],\n",
              "        [0, 0, 1, 0, 0, 1],\n",
              "        [0, 0, 1, 1, 1, 1]])"
            ]
          },
          "metadata": {},
          "execution_count": 85
        }
      ]
    },
    {
      "cell_type": "code",
      "source": [
        "A.diagonal()"
      ],
      "metadata": {
        "colab": {
          "base_uri": "https://localhost:8080/"
        },
        "id": "_LVnKvT6wS9o",
        "outputId": "e3622e3a-8092-462c-ac0f-0a40df28a5dd"
      },
      "execution_count": 86,
      "outputs": [
        {
          "output_type": "execute_result",
          "data": {
            "text/plain": [
              "array([0, 1, 0, 0, 0, 1])"
            ]
          },
          "metadata": {},
          "execution_count": 86
        }
      ]
    },
    {
      "cell_type": "code",
      "source": [
        "for line in nx.generate_adjlist(G):\n",
        "  print(line)   # but this will not exactly as graph "
      ],
      "metadata": {
        "colab": {
          "base_uri": "https://localhost:8080/"
        },
        "id": "RFKbbr9pwmUM",
        "outputId": "fce7fd89-be54-4088-f2d2-3bd795584c9f"
      },
      "execution_count": 89,
      "outputs": [
        {
          "output_type": "stream",
          "name": "stdout",
          "text": [
            "A B C\n",
            "B D B\n",
            "C E F\n",
            "D F\n",
            "E F\n",
            "F F\n"
          ]
        }
      ]
    },
    {
      "cell_type": "markdown",
      "source": [
        "# **Listing all adjecent nodes**"
      ],
      "metadata": {
        "id": "HSWI0ufkxseT"
      }
    },
    {
      "cell_type": "code",
      "source": [
        "from networkx.classes.function import neighbors\n",
        "def get_adjacent_list_with_all_edges(graph_val):\n",
        "  for s, neighbors in graph_val.adjacency():\n",
        "    line = str(s) + ' : '\n",
        "    for t, data in neighbors.items():\n",
        "      line += str(t) + ' - '\n",
        "    yield line[: -len(' ')]"
      ],
      "metadata": {
        "id": "efwOcPXqx02G"
      },
      "execution_count": 90,
      "outputs": []
    },
    {
      "cell_type": "code",
      "source": [
        "for line in get_adjacent_list_with_all_edges(G):\n",
        "  print(line)"
      ],
      "metadata": {
        "colab": {
          "base_uri": "https://localhost:8080/"
        },
        "id": "nAL9GTpozYkT",
        "outputId": "ff863f44-f7ed-43e7-adaf-34c63ba67139"
      },
      "execution_count": 91,
      "outputs": [
        {
          "output_type": "stream",
          "name": "stdout",
          "text": [
            "A : B - C -\n",
            "B : A - D - B -\n",
            "C : A - E - F -\n",
            "D : B - F -\n",
            "E : C - F -\n",
            "F : C - E - D - F -\n"
          ]
        }
      ]
    },
    {
      "cell_type": "markdown",
      "source": [
        "# **Incidence Matrix**"
      ],
      "metadata": {
        "id": "UHYdz97MzfMI"
      }
    },
    {
      "cell_type": "code",
      "source": [
        "I = nx.incidence_matrix(G)"
      ],
      "metadata": {
        "id": "CzBBzFidzxbN"
      },
      "execution_count": 92,
      "outputs": []
    },
    {
      "cell_type": "code",
      "source": [
        "I.todense()"
      ],
      "metadata": {
        "colab": {
          "base_uri": "https://localhost:8080/"
        },
        "id": "C-Zhghcaz3aH",
        "outputId": "9629a996-daff-425a-de5b-57e9e2d05479"
      },
      "execution_count": 93,
      "outputs": [
        {
          "output_type": "execute_result",
          "data": {
            "text/plain": [
              "matrix([[1., 1., 0., 0., 0., 0., 0., 0., 0.],\n",
              "        [1., 0., 1., 0., 0., 0., 0., 0., 0.],\n",
              "        [0., 1., 0., 0., 1., 1., 0., 0., 0.],\n",
              "        [0., 0., 1., 0., 0., 0., 1., 0., 0.],\n",
              "        [0., 0., 0., 0., 1., 0., 0., 1., 0.],\n",
              "        [0., 0., 0., 0., 0., 1., 1., 1., 0.]])"
            ]
          },
          "metadata": {},
          "execution_count": 93
        }
      ]
    },
    {
      "cell_type": "markdown",
      "source": [
        "# **Node Degree**"
      ],
      "metadata": {
        "id": "ynOEMAd8z5kX"
      }
    },
    {
      "cell_type": "code",
      "source": [
        "G.degree()"
      ],
      "metadata": {
        "colab": {
          "base_uri": "https://localhost:8080/"
        },
        "id": "OspA6ChAz_Vx",
        "outputId": "b8430a0d-38e9-43cc-841c-b33554af70bc"
      },
      "execution_count": 94,
      "outputs": [
        {
          "output_type": "execute_result",
          "data": {
            "text/plain": [
              "DegreeView({'A': 2, 'B': 4, 'C': 3, 'D': 2, 'E': 2, 'F': 5})"
            ]
          },
          "metadata": {},
          "execution_count": 94
        }
      ]
    },
    {
      "cell_type": "markdown",
      "source": [
        "# **Laplacian Matrix**"
      ],
      "metadata": {
        "id": "1E_N81x00Bi1"
      }
    },
    {
      "cell_type": "code",
      "source": [
        "L = nx.laplacian_matrix(G)"
      ],
      "metadata": {
        "id": "HsU0E2sc0X5t"
      },
      "execution_count": 95,
      "outputs": []
    },
    {
      "cell_type": "code",
      "source": [
        "L.todense()"
      ],
      "metadata": {
        "colab": {
          "base_uri": "https://localhost:8080/"
        },
        "id": "43gTqXLN0iOG",
        "outputId": "9f52549d-f023-48c7-c14f-c56a57be34a0"
      },
      "execution_count": 96,
      "outputs": [
        {
          "output_type": "execute_result",
          "data": {
            "text/plain": [
              "matrix([[ 2, -1, -1,  0,  0,  0],\n",
              "        [-1,  2,  0, -1,  0,  0],\n",
              "        [-1,  0,  3,  0, -1, -1],\n",
              "        [ 0, -1,  0,  2,  0, -1],\n",
              "        [ 0,  0, -1,  0,  2, -1],\n",
              "        [ 0,  0, -1, -1, -1,  3]])"
            ]
          },
          "metadata": {},
          "execution_count": 96
        }
      ]
    },
    {
      "cell_type": "code",
      "source": [
        "L.todense().diagonal()"
      ],
      "metadata": {
        "colab": {
          "base_uri": "https://localhost:8080/"
        },
        "id": "k-MfJ--K0kNr",
        "outputId": "7ad41d2c-0562-432b-fa39-0438fb0fa084"
      },
      "execution_count": 97,
      "outputs": [
        {
          "output_type": "execute_result",
          "data": {
            "text/plain": [
              "matrix([[2, 2, 3, 2, 2, 3]])"
            ]
          },
          "metadata": {},
          "execution_count": 97
        }
      ]
    },
    {
      "cell_type": "markdown",
      "source": [
        "# **Graph Walking**\n",
        "- Traversing the graph through the connected nodes\n",
        "- Reference: https://www.analyticsvidhya.com/blog/2019/11/graph-feature-extraction-deepwalk/"
      ],
      "metadata": {
        "id": "C_JS92X31F8e"
      }
    },
    {
      "cell_type": "code",
      "source": [
        "import random\n",
        "\n",
        "def get_randomwalk(graph_val, node, path_length):\n",
        "\n",
        "  random_walk = [node]\n",
        "\n",
        "  for i in range(path_length-1):\n",
        "    temp = list(graph_val.neighbors(node))\n",
        "    temp = list(set(temp) - set(random_walk))\n",
        "    if len(temp) == 0:\n",
        "      break\n",
        "\n",
        "    random_node = random.choice(temp)\n",
        "    random_walk.append(random_node)\n",
        "\n",
        "    node = random_node\n",
        "\n",
        "  return random_walk"
      ],
      "metadata": {
        "id": "Bz8Axvw513Uo"
      },
      "execution_count": 103,
      "outputs": []
    },
    {
      "cell_type": "code",
      "source": [
        "get_randomwalk(G, 'E', 5)   # I can change path_length value and see the that numbers of values in this result"
      ],
      "metadata": {
        "colab": {
          "base_uri": "https://localhost:8080/"
        },
        "id": "UyKhuuP623nd",
        "outputId": "6ac52cc6-2083-4e2c-b9d4-06251fd17a98"
      },
      "execution_count": 115,
      "outputs": [
        {
          "output_type": "execute_result",
          "data": {
            "text/plain": [
              "['E', 'C', 'F', 'D', 'B']"
            ]
          },
          "metadata": {},
          "execution_count": 115
        }
      ]
    },
    {
      "cell_type": "code",
      "source": [
        "from tqdm import tqdm\n",
        "\n",
        "# get list of all nodes from the graph\n",
        "all_nodes = list(G.nodes())\n",
        "\n",
        "random_walks = []\n",
        "for n in tqdm(all_nodes):\n",
        "  for i in range(4):\n",
        "    random_walks.append(get_randomwalk(G, n, i))\n",
        "\n",
        "# Count of sequences\n",
        "len(random_walks)"
      ],
      "metadata": {
        "colab": {
          "base_uri": "https://localhost:8080/"
        },
        "id": "0nZvmvDv3g7Z",
        "outputId": "d9790e82-9e14-43a9-f7a9-08ba2ae01fc0"
      },
      "execution_count": 119,
      "outputs": [
        {
          "output_type": "stream",
          "name": "stderr",
          "text": [
            "100%|██████████| 6/6 [00:00<00:00, 16923.89it/s]\n"
          ]
        },
        {
          "output_type": "execute_result",
          "data": {
            "text/plain": [
              "24"
            ]
          },
          "metadata": {},
          "execution_count": 119
        }
      ]
    },
    {
      "cell_type": "code",
      "source": [
        "random_walks"
      ],
      "metadata": {
        "colab": {
          "base_uri": "https://localhost:8080/"
        },
        "id": "zqFPmOWY5pqM",
        "outputId": "14b7b82f-df0e-4e9b-9c85-c94ed46699aa"
      },
      "execution_count": 117,
      "outputs": [
        {
          "output_type": "execute_result",
          "data": {
            "text/plain": [
              "[['A'],\n",
              " ['A'],\n",
              " ['B'],\n",
              " ['B'],\n",
              " ['C'],\n",
              " ['C'],\n",
              " ['D'],\n",
              " ['D'],\n",
              " ['E'],\n",
              " ['E'],\n",
              " ['F'],\n",
              " ['F']]"
            ]
          },
          "metadata": {},
          "execution_count": 117
        }
      ]
    },
    {
      "cell_type": "code",
      "source": [],
      "metadata": {
        "id": "rfTDNa1D5yya"
      },
      "execution_count": null,
      "outputs": []
    }
  ]
}